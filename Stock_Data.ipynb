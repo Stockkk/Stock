{
 "cells": [
  {
   "cell_type": "markdown",
   "id": "4aa43386-1942-4ef6-9dae-cb1daf2d6741",
   "metadata": {},
   "source": [
    "# 종목명을 입력받으면 세부정보 반환"
   ]
  },
  {
   "cell_type": "code",
   "execution_count": 3,
   "id": "466a5a1d-1f61-48af-8548-eaf80bb96f8a",
   "metadata": {},
   "outputs": [
    {
     "name": "stdin",
     "output_type": "stream",
     "text": [
      "조회할 종목명을 입력하세요:  삼성전자\n"
     ]
    },
    {
     "name": "stdout",
     "output_type": "stream",
     "text": [
      "종목명: 삼성전자\n",
      "종가: 53000\n",
      "전일 대비: -2000\n",
      "등락률: -3.64\n",
      "시가: 54600\n",
      "고가: 54600\n",
      "저가: 53000\n",
      "거래량: 37962881\n",
      "거래대금: 2037790866499\n",
      "시가총액: 316398475150000\n"
     ]
    }
   ],
   "source": [
    "import requests\n",
    "\n",
    "def get_stock_info(stock_name):\n",
    "    # 발급받은 인코딩된 서비스키를 사용하세요.\n",
    "    service_key = 'Q0KvEVbeB1hi3GV3FuOvbdn%2FWJGeUcU6TTTo3x3sQSvfSH5JzLuvrzDT3hUYfN6%2F3jdXnJw1VQfFSZvEBnVuFQ%3D%3D'\n",
    "\n",
    "    # 요청할 URL 구성 (종목명 추가)\n",
    "    url = f\"https://apis.data.go.kr/1160100/service/GetStockSecuritiesInfoService/getStockPriceInfo?serviceKey={service_key}&numOfRows=1&pageNo=1&resultType=json&itmsNm={stock_name}\"\n",
    "\n",
    "    # API 요청을 보냅니다.\n",
    "    response = requests.get(url)\n",
    "\n",
    "    # 응답 상태 코드가 200일 경우 데이터 처리\n",
    "    if response.status_code == 200:\n",
    "        data = response.json()\n",
    "        items = data.get('response', {}).get('body', {}).get('items', {}).get('item', [])\n",
    "        \n",
    "        # 결과가 있을 경우\n",
    "        if items:\n",
    "            stock_data = items[0]  # 첫 번째 항목만 가져옴\n",
    "            result = {\n",
    "                \"종목명\": stock_data.get('itmsNm', 'N/A'),\n",
    "                \"종가\": stock_data.get('clpr', 'N/A'),\n",
    "                \"전일 대비\": stock_data.get('vs', 'N/A'),\n",
    "                \"등락률\": stock_data.get('fltRt', 'N/A'),  # 등락률\n",
    "                \"시가\": stock_data.get('mkp', 'N/A'),\n",
    "                \"고가\": stock_data.get('hipr', 'N/A'),\n",
    "                \"저가\": stock_data.get('lopr', 'N/A'),\n",
    "                \"거래량\": stock_data.get('trqu', 'N/A'),\n",
    "                \"거래대금\": stock_data.get('trPrc', 'N/A'),\n",
    "                \"시가총액\": stock_data.get('mrktTotAmt', 'N/A')\n",
    "            }\n",
    "            return result\n",
    "        else:\n",
    "            return \"해당 종목명을 찾을 수 없습니다.\"\n",
    "    else:\n",
    "        return f\"API 호출 실패: {response.status_code}\"\n",
    "\n",
    "# 종목명을 입력받아 함수 호출\n",
    "stock_name = input(\"조회할 종목명을 입력하세요: \")\n",
    "stock_info = get_stock_info(stock_name)\n",
    "\n",
    "# 결과 출력\n",
    "if isinstance(stock_info, dict):\n",
    "    for key, value in stock_info.items():\n",
    "        print(f\"{key}: {value}\")\n",
    "else:\n",
    "    print(stock_info)"
   ]
  },
  {
   "cell_type": "code",
   "execution_count": 4,
   "id": "97aee574-9aec-4699-83c7-df8d0a1b97ab",
   "metadata": {},
   "outputs": [
    {
     "data": {
      "text/plain": [
       "dict_items([('종목명', '삼성전자'), ('종가', '53000'), ('전일 대비', '-2000'), ('등락률', '-3.64'), ('시가', '54600'), ('고가', '54600'), ('저가', '53000'), ('거래량', '37962881'), ('거래대금', '2037790866499'), ('시가총액', '316398475150000')])"
      ]
     },
     "execution_count": 4,
     "metadata": {},
     "output_type": "execute_result"
    }
   ],
   "source": [
    "stock_info.items()"
   ]
  },
  {
   "cell_type": "code",
   "execution_count": 4,
   "id": "624892c5-0a5f-48f5-b24c-453d34dfe4ed",
   "metadata": {
    "scrolled": true
   },
   "outputs": [
    {
     "name": "stderr",
     "output_type": "stream",
     "text": [
      "/var/folders/9x/8whwzmnj6z5bjc7_h1txd9_r0000gn/T/ipykernel_31177/2531466339.py:43: UserWarning: Glyph 45216 (\\N{HANGUL SYLLABLE NAL}) missing from current font.\n",
      "  plt.tight_layout()\n",
      "/var/folders/9x/8whwzmnj6z5bjc7_h1txd9_r0000gn/T/ipykernel_31177/2531466339.py:43: UserWarning: Glyph 51676 (\\N{HANGUL SYLLABLE JJA}) missing from current font.\n",
      "  plt.tight_layout()\n",
      "/var/folders/9x/8whwzmnj6z5bjc7_h1txd9_r0000gn/T/ipykernel_31177/2531466339.py:43: UserWarning: Glyph 51333 (\\N{HANGUL SYLLABLE JONG}) missing from current font.\n",
      "  plt.tight_layout()\n",
      "/var/folders/9x/8whwzmnj6z5bjc7_h1txd9_r0000gn/T/ipykernel_31177/2531466339.py:43: UserWarning: Glyph 44032 (\\N{HANGUL SYLLABLE GA}) missing from current font.\n",
      "  plt.tight_layout()\n",
      "/var/folders/9x/8whwzmnj6z5bjc7_h1txd9_r0000gn/T/ipykernel_31177/2531466339.py:43: UserWarning: Glyph 50896 (\\N{HANGUL SYLLABLE WEON}) missing from current font.\n",
      "  plt.tight_layout()\n",
      "/var/folders/9x/8whwzmnj6z5bjc7_h1txd9_r0000gn/T/ipykernel_31177/2531466339.py:43: UserWarning: Glyph 54620 (\\N{HANGUL SYLLABLE HAN}) missing from current font.\n",
      "  plt.tight_layout()\n",
      "/var/folders/9x/8whwzmnj6z5bjc7_h1txd9_r0000gn/T/ipykernel_31177/2531466339.py:43: UserWarning: Glyph 54868 (\\N{HANGUL SYLLABLE HWA}) missing from current font.\n",
      "  plt.tight_layout()\n",
      "/var/folders/9x/8whwzmnj6z5bjc7_h1txd9_r0000gn/T/ipykernel_31177/2531466339.py:43: UserWarning: Glyph 49884 (\\N{HANGUL SYLLABLE SI}) missing from current font.\n",
      "  plt.tight_layout()\n",
      "/var/folders/9x/8whwzmnj6z5bjc7_h1txd9_r0000gn/T/ipykernel_31177/2531466339.py:43: UserWarning: Glyph 49828 (\\N{HANGUL SYLLABLE SEU}) missing from current font.\n",
      "  plt.tight_layout()\n",
      "/var/folders/9x/8whwzmnj6z5bjc7_h1txd9_r0000gn/T/ipykernel_31177/2531466339.py:43: UserWarning: Glyph 53596 (\\N{HANGUL SYLLABLE TEM}) missing from current font.\n",
      "  plt.tight_layout()\n",
      "/var/folders/9x/8whwzmnj6z5bjc7_h1txd9_r0000gn/T/ipykernel_31177/2531466339.py:43: UserWarning: Glyph 51032 (\\N{HANGUL SYLLABLE YI}) missing from current font.\n",
      "  plt.tight_layout()\n",
      "/var/folders/9x/8whwzmnj6z5bjc7_h1txd9_r0000gn/T/ipykernel_31177/2531466339.py:43: UserWarning: Glyph 45804 (\\N{HANGUL SYLLABLE DAL}) missing from current font.\n",
      "  plt.tight_layout()\n",
      "/var/folders/9x/8whwzmnj6z5bjc7_h1txd9_r0000gn/T/ipykernel_31177/2531466339.py:43: UserWarning: Glyph 52824 (\\N{HANGUL SYLLABLE CI}) missing from current font.\n",
      "  plt.tight_layout()\n",
      "/Users/ohheungchan/anaconda3/envs/tf29_py39/lib/python3.9/site-packages/IPython/core/pylabtools.py:152: UserWarning: Glyph 51333 (\\N{HANGUL SYLLABLE JONG}) missing from current font.\n",
      "  fig.canvas.print_figure(bytes_io, **kw)\n",
      "/Users/ohheungchan/anaconda3/envs/tf29_py39/lib/python3.9/site-packages/IPython/core/pylabtools.py:152: UserWarning: Glyph 44032 (\\N{HANGUL SYLLABLE GA}) missing from current font.\n",
      "  fig.canvas.print_figure(bytes_io, **kw)\n",
      "/Users/ohheungchan/anaconda3/envs/tf29_py39/lib/python3.9/site-packages/IPython/core/pylabtools.py:152: UserWarning: Glyph 50896 (\\N{HANGUL SYLLABLE WEON}) missing from current font.\n",
      "  fig.canvas.print_figure(bytes_io, **kw)\n",
      "/Users/ohheungchan/anaconda3/envs/tf29_py39/lib/python3.9/site-packages/IPython/core/pylabtools.py:152: UserWarning: Glyph 54620 (\\N{HANGUL SYLLABLE HAN}) missing from current font.\n",
      "  fig.canvas.print_figure(bytes_io, **kw)\n",
      "/Users/ohheungchan/anaconda3/envs/tf29_py39/lib/python3.9/site-packages/IPython/core/pylabtools.py:152: UserWarning: Glyph 54868 (\\N{HANGUL SYLLABLE HWA}) missing from current font.\n",
      "  fig.canvas.print_figure(bytes_io, **kw)\n",
      "/Users/ohheungchan/anaconda3/envs/tf29_py39/lib/python3.9/site-packages/IPython/core/pylabtools.py:152: UserWarning: Glyph 49884 (\\N{HANGUL SYLLABLE SI}) missing from current font.\n",
      "  fig.canvas.print_figure(bytes_io, **kw)\n",
      "/Users/ohheungchan/anaconda3/envs/tf29_py39/lib/python3.9/site-packages/IPython/core/pylabtools.py:152: UserWarning: Glyph 49828 (\\N{HANGUL SYLLABLE SEU}) missing from current font.\n",
      "  fig.canvas.print_figure(bytes_io, **kw)\n",
      "/Users/ohheungchan/anaconda3/envs/tf29_py39/lib/python3.9/site-packages/IPython/core/pylabtools.py:152: UserWarning: Glyph 53596 (\\N{HANGUL SYLLABLE TEM}) missing from current font.\n",
      "  fig.canvas.print_figure(bytes_io, **kw)\n",
      "/Users/ohheungchan/anaconda3/envs/tf29_py39/lib/python3.9/site-packages/IPython/core/pylabtools.py:152: UserWarning: Glyph 51032 (\\N{HANGUL SYLLABLE YI}) missing from current font.\n",
      "  fig.canvas.print_figure(bytes_io, **kw)\n",
      "/Users/ohheungchan/anaconda3/envs/tf29_py39/lib/python3.9/site-packages/IPython/core/pylabtools.py:152: UserWarning: Glyph 45804 (\\N{HANGUL SYLLABLE DAL}) missing from current font.\n",
      "  fig.canvas.print_figure(bytes_io, **kw)\n",
      "/Users/ohheungchan/anaconda3/envs/tf29_py39/lib/python3.9/site-packages/IPython/core/pylabtools.py:152: UserWarning: Glyph 52824 (\\N{HANGUL SYLLABLE CI}) missing from current font.\n",
      "  fig.canvas.print_figure(bytes_io, **kw)\n",
      "/Users/ohheungchan/anaconda3/envs/tf29_py39/lib/python3.9/site-packages/IPython/core/pylabtools.py:152: UserWarning: Glyph 45216 (\\N{HANGUL SYLLABLE NAL}) missing from current font.\n",
      "  fig.canvas.print_figure(bytes_io, **kw)\n",
      "/Users/ohheungchan/anaconda3/envs/tf29_py39/lib/python3.9/site-packages/IPython/core/pylabtools.py:152: UserWarning: Glyph 51676 (\\N{HANGUL SYLLABLE JJA}) missing from current font.\n",
      "  fig.canvas.print_figure(bytes_io, **kw)\n"
     ]
    },
    {
     "data": {
      "image/png": "[encoded data removed]",
      "text/plain": [
       "<Figure size 1000x500 with 1 Axes>"
      ]
     },
     "metadata": {},
     "output_type": "display_data"
    }
   ],
   "source": [
    "import requests\n",
    "import matplotlib.pyplot as plt\n",
    "from datetime import datetime\n",
    "\n",
    "# 발급받은 인코딩된 서비스키를 사용하세요.\n",
    "service_key = 'Q0KvEVbeB1hi3GV3FuOvbdn%2FWJGeUcU6TTTo3x3sQSvfSH5JzLuvrzDT3hUYfN6%2F3jdXnJw1VQfFSZvEBnVuFQ%3D%3D'\n",
    "\n",
    "# 요청할 종목명 설정\n",
    "stock_name = '한화시스템'\n",
    "\n",
    "# 한 달(30일)치 데이터를 요청할 URL 구성\n",
    "url = f\"https://apis.data.go.kr/1160100/service/GetStockSecuritiesInfoService/getStockPriceInfo?serviceKey={service_key}&numOfRows=30&pageNo=1&resultType=json&itmsNm={stock_name}\"\n",
    "\n",
    "# API 요청을 보냅니다.\n",
    "response = requests.get(url)\n",
    "\n",
    "# 응답 상태 코드가 200일 경우 데이터 출력\n",
    "if response.status_code == 200:\n",
    "    data = response.json()\n",
    "    items = data.get('response', {}).get('body', {}).get('items', {}).get('item', [])\n",
    "    \n",
    "    # 날짜와 종가 데이터를 저장할 리스트 초기화\n",
    "    dates = []\n",
    "    closing_prices = []\n",
    "    \n",
    "    # 각 날짜와 종가를 리스트에 저장\n",
    "    for item in items:\n",
    "        date = datetime.strptime(item.get('basDt'), '%Y%m%d')\n",
    "        closing_price = float(item.get('clpr', 0))  # 종가\n",
    "        dates.append(date)\n",
    "        closing_prices.append(closing_price)\n",
    "    \n",
    "    # 날짜 순서로 정렬 (API에서 최신순으로 반환할 수 있으므로)\n",
    "    dates, closing_prices = zip(*sorted(zip(dates, closing_prices)))\n",
    "    \n",
    "    # 그래프 그리기\n",
    "    plt.figure(figsize=(10, 5))\n",
    "    plt.plot(dates, closing_prices, marker='o', linestyle='-', color='b')\n",
    "    plt.title(f\"{stock_name}의 한 달치 종가\")\n",
    "    plt.xlabel(\"날짜\")\n",
    "    plt.ylabel(\"종가 (원)\")\n",
    "    plt.xticks(rotation=45)\n",
    "    plt.tight_layout()\n",
    "    plt.show()\n",
    "else:\n",
    "    print(f\"API 호출 실패: {response.status_code}\")"
   ]
  },
  {
   "cell_type": "code",
   "execution_count": 5,
   "id": "27c97b03-ce09-4ec3-bb0c-244ea084eaa0",
   "metadata": {},
   "outputs": [
    {
     "name": "stdout",
     "output_type": "stream",
     "text": [
      "한 달치 종가 리스트: [18680.0, 18780.0, 18830.0, 18510.0, 18120.0, 17880.0, 17780.0, 18080.0, 18750.0, 17960.0, 17770.0, 17930.0, 18230.0, 18300.0, 18620.0, 18880.0, 18670.0, 18600.0, 19300.0, 18760.0, 19220.0, 19070.0, 18900.0, 19320.0, 19140.0, 18260.0, 17470.0, 17890.0, 18170.0, 19310.0]\n"
     ]
    }
   ],
   "source": [
    "import requests\n",
    "from datetime import datetime\n",
    "\n",
    "# 발급받은 인코딩된 서비스키를 사용하세요.\n",
    "service_key = 'Q0KvEVbeB1hi3GV3FuOvbdn%2FWJGeUcU6TTTo3x3sQSvfSH5JzLuvrzDT3hUYfN6%2F3jdXnJw1VQfFSZvEBnVuFQ%3D%3D'\n",
    "\n",
    "# 요청할 종목명 설정\n",
    "stock_name = '한화시스템'\n",
    "\n",
    "# 한 달(30일)치 데이터를 요청할 URL 구성\n",
    "url = f\"https://apis.data.go.kr/1160100/service/GetStockSecuritiesInfoService/getStockPriceInfo?serviceKey={service_key}&numOfRows=30&pageNo=1&resultType=json&itmsNm={stock_name}\"\n",
    "\n",
    "# API 요청을 보냅니다.\n",
    "response = requests.get(url)\n",
    "\n",
    "# 응답 상태 코드가 200일 경우 데이터 출력\n",
    "if response.status_code == 200:\n",
    "    data = response.json()\n",
    "    items = data.get('response', {}).get('body', {}).get('items', {}).get('item', [])\n",
    "    \n",
    "    # 종가 데이터를 저장할 리스트 초기화\n",
    "    closing_prices = []\n",
    "    \n",
    "    # 각 종가를 리스트에 저장\n",
    "    for item in items:\n",
    "        closing_price = float(item.get('clpr', 0))  # 종가\n",
    "        closing_prices.append(closing_price)\n",
    "    \n",
    "    # 최신순으로 가져왔으므로 날짜 순서로 정렬\n",
    "    closing_prices = closing_prices[::-1]  # 리스트 역순으로 정렬\n",
    "    \n",
    "    # 종가 리스트 출력\n",
    "    print(\"한 달치 종가 리스트:\", closing_prices)\n",
    "else:\n",
    "    print(f\"API 호출 실패: {response.status_code}\")"
   ]
  },
  {
   "cell_type": "markdown",
   "id": "40845ddd-8a27-4e77-b45f-808cf36f5c12",
   "metadata": {},
   "source": [
    "# 180종가 리스트를 반환하는 함수"
   ]
  },
  {
   "cell_type": "code",
   "execution_count": 2,
   "id": "40e3b416-fbeb-4e7a-aa95-c8b42f429e20",
   "metadata": {},
   "outputs": [
    {
     "name": "stdin",
     "output_type": "stream",
     "text": [
      "조회할 종목명을 입력하세요:  한미반도체\n"
     ]
    },
    {
     "name": "stdout",
     "output_type": "stream",
     "text": [
      "한미반도체의 180일치 종가 리스트: [75500.0, 75400.0, 74500.0, 74500.0, 71600.0, 76400.0, 73800.0, 77700.0, 82700.0, 90100.0, 84800.0, 95400.0, 94800.0, 101400.0, 98700.0, 100100.0, 97400.0, 98100.0, 100100.0, 98900.0, 96200.0, 98300.0, 93400.0, 93100.0, 93800.0, 93800.0, 97400.0, 112500.0, 114400.0, 134000.0, 133700.0, 142300.0, 145500.0, 144900.0, 137300.0, 135700.0, 132500.0, 132900.0, 141700.0, 145500.0, 146300.0, 140300.0, 136300.0, 142600.0, 136400.0, 127100.0, 131400.0, 142600.0, 136500.0, 137200.0, 137100.0, 135000.0, 133000.0, 130000.0, 136500.0, 140800.0, 141600.0, 139100.0, 139700.0, 141800.0, 144100.0, 139900.0, 141300.0, 140200.0, 147300.0, 146400.0, 147700.0, 152200.0, 163000.0, 169200.0, 165300.0, 161700.0, 146700.0, 148600.0, 155800.0, 156800.0, 160000.0, 159300.0, 173900.0, 189000.0, 179900.0, 180100.0, 179500.0, 177000.0, 179300.0, 180300.0, 175400.0, 172900.0, 179800.0, 173700.0, 172300.0, 170800.0, 168600.0, 166800.0, 160200.0, 165400.0, 162500.0, 164100.0, 162400.0, 161000.0, 160500.0, 157900.0, 168100.0, 159400.0, 153500.0, 151000.0, 145400.0, 145500.0, 143400.0, 135500.0, 137500.0, 137400.0, 128700.0, 131200.0, 127300.0, 115400.0, 102600.0, 107600.0, 107900.0, 104900.0, 108500.0, 114200.0, 113200.0, 118500.0, 127700.0, 124900.0, 125500.0, 124800.0, 120700.0, 117800.0, 115400.0, 115100.0, 122800.0, 111200.0, 114500.0, 111400.0, 108600.0, 101000.0, 99800.0, 96500.0, 97600.0, 96400.0, 96300.0, 101400.0, 99500.0, 96200.0, 100300.0, 101400.0, 105600.0, 106600.0, 114200.0, 113000.0, 108300.0, 107900.0, 107400.0, 110800.0, 107400.0, 110700.0, 109500.0, 113500.0, 112000.0, 108700.0, 116300.0, 104200.0, 101500.0, 98800.0, 101500.0, 98200.0, 97800.0, 95500.0, 92600.0, 96300.0, 92000.0, 92800.0, 95600.0, 95500.0, 93100.0, 92500.0, 94200.0, 88100.0]\n"
     ]
    }
   ],
   "source": [
    "import requests\n",
    "from datetime import datetime\n",
    "\n",
    "def get_stock_prices_180_days(stock_name):\n",
    "    # 발급받은 인코딩된 서비스키를 사용하세요.\n",
    "    service_key = 'Q0KvEVbeB1hi3GV3FuOvbdn%2FWJGeUcU6TTTo3x3sQSvfSH5JzLuvrzDT3hUYfN6%2F3jdXnJw1VQfFSZvEBnVuFQ%3D%3D'\n",
    "\n",
    "    # 180일치 데이터를 요청할 URL 구성\n",
    "    url = f\"https://apis.data.go.kr/1160100/service/GetStockSecuritiesInfoService/getStockPriceInfo?serviceKey={service_key}&numOfRows=180&pageNo=1&resultType=json&itmsNm={stock_name}\"\n",
    "\n",
    "    # API 요청을 보냅니다.\n",
    "    response = requests.get(url)\n",
    "\n",
    "    # 응답 상태 코드가 200일 경우 데이터 처리\n",
    "    if response.status_code == 200:\n",
    "        data = response.json()\n",
    "        items = data.get('response', {}).get('body', {}).get('items', {}).get('item', [])\n",
    "        \n",
    "        # 종가 데이터를 저장할 리스트 초기화\n",
    "        closing_prices = []\n",
    "        \n",
    "        # 각 종가 데이터를 리스트에 저장\n",
    "        for item in items:\n",
    "            closing_price = float(item.get('clpr', 0))  # 종가\n",
    "            closing_prices.append(closing_price)\n",
    "        \n",
    "        # 최신순으로 가져왔으므로 날짜 순서로 정렬\n",
    "        closing_prices = closing_prices[::-1]  # 리스트 역순으로 정렬\n",
    "        \n",
    "        return closing_prices\n",
    "    else:\n",
    "        print(f\"API 호출 실패: {response.status_code}\")\n",
    "        return None\n",
    "\n",
    "# 종목명을 입력받아 함수 호출\n",
    "stock_name = input(\"조회할 종목명을 입력하세요: \")\n",
    "stock_prices_180_days = get_stock_prices_180_days(stock_name)\n",
    "\n",
    "# 결과 출력\n",
    "if stock_prices_180_days:\n",
    "    print(f\"{stock_name}의 180일치 종가 리스트:\", stock_prices_180_days)"
   ]
  },
  {
   "cell_type": "code",
   "execution_count": null,
   "id": "8e6d90b7-59d4-46e6-83a8-6f963b6387cb",
   "metadata": {},
   "outputs": [],
   "source": []
  },
  {
   "cell_type": "markdown",
   "id": "45bc2647-a3da-45e2-ab6c-acbe36f53c0b",
   "metadata": {},
   "source": [
    "# 세부정보와 종가리스트를 함께 반환하는 함수."
   ]
  },
  {
   "cell_type": "code",
   "execution_count": 18,
   "id": "133c8d04-a262-473d-9e64-9f31480c02b2",
   "metadata": {
    "scrolled": true
   },
   "outputs": [
    {
     "name": "stdin",
     "output_type": "stream",
     "text": [
      "조회할 종목명을 입력하세요:  두산\n"
     ]
    },
    {
     "name": "stdout",
     "output_type": "stream",
     "text": [
      "종목명: 두산\n",
      "종가: 234000\n",
      "전일 대비: -500\n",
      "등락률: -.21\n",
      "시가: 233000\n",
      "고가: 244000\n",
      "저가: 230500\n",
      "거래량: 105283\n",
      "거래대금: 24962493000\n",
      "시가총액: 3866577390000\n",
      "180일 종가 리스트: [93600.0, 92600.0, 98000.0, 98100.0, 98700.0, 99200.0, 99900.0, 95900.0, 90600.0, 91700.0, 91000.0, 91100.0, 90700.0, 92400.0, 107900.0, 111200.0, 109000.0, 115200.0, 128600.0, 134000.0, 145000.0, 162000.0, 142100.0, 145800.0, 150600.0, 147000.0, 143800.0, 145600.0, 149900.0, 151000.0, 155500.0, 145000.0, 144000.0, 138000.0, 147700.0, 141800.0, 143600.0, 148500.0, 151800.0, 164000.0, 156100.0, 140400.0, 139400.0, 141000.0, 131700.0, 133400.0, 132900.0, 137000.0, 135000.0, 137600.0, 146100.0, 152300.0, 146100.0, 154200.0, 160000.0, 160000.0, 162200.0, 161300.0, 170400.0, 162900.0, 174700.0, 165000.0, 162800.0, 164000.0, 177400.0, 193400.0, 189700.0, 206500.0, 220000.0, 210500.0, 204000.0, 206000.0, 200000.0, 195500.0, 199000.0, 206000.0, 201000.0, 202000.0, 223000.0, 234000.0, 216500.0, 219000.0, 225500.0, 221500.0, 213500.0, 212500.0, 203000.0, 206500.0, 209000.0, 200500.0, 217000.0, 208000.0, 204500.0, 225000.0, 230000.0, 223000.0, 221000.0, 231500.0, 233500.0, 241500.0, 237000.0, 239500.0, 227500.0, 216500.0, 207000.0, 206000.0, 194500.0, 203500.0, 195000.0, 172000.0, 163400.0, 165900.0, 164700.0, 175000.0, 167400.0, 149100.0, 128100.0, 133800.0, 135500.0, 134900.0, 136500.0, 150000.0, 150500.0, 148500.0, 152500.0, 149300.0, 151900.0, 151800.0, 147400.0, 146200.0, 141200.0, 146500.0, 146400.0, 147900.0, 149500.0, 144800.0, 150000.0, 142700.0, 141400.0, 138900.0, 139100.0, 143900.0, 142800.0, 160100.0, 159100.0, 163300.0, 164900.0, 168500.0, 166500.0, 163500.0, 172600.0, 169000.0, 169500.0, 166000.0, 169200.0, 170000.0, 170400.0, 174100.0, 182900.0, 192500.0, 189500.0, 190900.0, 210000.0, 206000.0, 207000.0, 209000.0, 200500.0, 204000.0, 206000.0, 209500.0, 202000.0, 202500.0, 200500.0, 191300.0, 193100.0, 212500.0, 222000.0, 234500.0, 234500.0, 234000.0]\n"
     ]
    },
    {
     "name": "stderr",
     "output_type": "stream",
     "text": [
      "/var/folders/9x/8whwzmnj6z5bjc7_h1txd9_r0000gn/T/ipykernel_63948/1187847516.py:63: UserWarning: Glyph 51068 (\\N{HANGUL SYLLABLE IL}) missing from current font.\n",
      "  plt.tight_layout()\n",
      "/var/folders/9x/8whwzmnj6z5bjc7_h1txd9_r0000gn/T/ipykernel_63948/1187847516.py:63: UserWarning: Glyph 51333 (\\N{HANGUL SYLLABLE JONG}) missing from current font.\n",
      "  plt.tight_layout()\n",
      "/var/folders/9x/8whwzmnj6z5bjc7_h1txd9_r0000gn/T/ipykernel_63948/1187847516.py:63: UserWarning: Glyph 44032 (\\N{HANGUL SYLLABLE GA}) missing from current font.\n",
      "  plt.tight_layout()\n",
      "/var/folders/9x/8whwzmnj6z5bjc7_h1txd9_r0000gn/T/ipykernel_63948/1187847516.py:63: UserWarning: Glyph 50896 (\\N{HANGUL SYLLABLE WEON}) missing from current font.\n",
      "  plt.tight_layout()\n",
      "/var/folders/9x/8whwzmnj6z5bjc7_h1txd9_r0000gn/T/ipykernel_63948/1187847516.py:63: UserWarning: Glyph 46160 (\\N{HANGUL SYLLABLE DU}) missing from current font.\n",
      "  plt.tight_layout()\n",
      "/var/folders/9x/8whwzmnj6z5bjc7_h1txd9_r0000gn/T/ipykernel_63948/1187847516.py:63: UserWarning: Glyph 49328 (\\N{HANGUL SYLLABLE SAN}) missing from current font.\n",
      "  plt.tight_layout()\n",
      "/var/folders/9x/8whwzmnj6z5bjc7_h1txd9_r0000gn/T/ipykernel_63948/1187847516.py:63: UserWarning: Glyph 51032 (\\N{HANGUL SYLLABLE YI}) missing from current font.\n",
      "  plt.tight_layout()\n",
      "/var/folders/9x/8whwzmnj6z5bjc7_h1txd9_r0000gn/T/ipykernel_63948/1187847516.py:63: UserWarning: Glyph 52824 (\\N{HANGUL SYLLABLE CI}) missing from current font.\n",
      "  plt.tight_layout()\n",
      "/var/folders/9x/8whwzmnj6z5bjc7_h1txd9_r0000gn/T/ipykernel_63948/1187847516.py:63: UserWarning: Glyph 48320 (\\N{HANGUL SYLLABLE BYEON}) missing from current font.\n",
      "  plt.tight_layout()\n",
      "/var/folders/9x/8whwzmnj6z5bjc7_h1txd9_r0000gn/T/ipykernel_63948/1187847516.py:63: UserWarning: Glyph 46041 (\\N{HANGUL SYLLABLE DONG}) missing from current font.\n",
      "  plt.tight_layout()\n",
      "/Users/ohheungchan/anaconda3/envs/tf29_py39/lib/python3.9/site-packages/IPython/core/pylabtools.py:152: UserWarning: Glyph 51333 (\\N{HANGUL SYLLABLE JONG}) missing from current font.\n",
      "  fig.canvas.print_figure(bytes_io, **kw)\n",
      "/Users/ohheungchan/anaconda3/envs/tf29_py39/lib/python3.9/site-packages/IPython/core/pylabtools.py:152: UserWarning: Glyph 44032 (\\N{HANGUL SYLLABLE GA}) missing from current font.\n",
      "  fig.canvas.print_figure(bytes_io, **kw)\n",
      "/Users/ohheungchan/anaconda3/envs/tf29_py39/lib/python3.9/site-packages/IPython/core/pylabtools.py:152: UserWarning: Glyph 50896 (\\N{HANGUL SYLLABLE WEON}) missing from current font.\n",
      "  fig.canvas.print_figure(bytes_io, **kw)\n",
      "/Users/ohheungchan/anaconda3/envs/tf29_py39/lib/python3.9/site-packages/IPython/core/pylabtools.py:152: UserWarning: Glyph 46160 (\\N{HANGUL SYLLABLE DU}) missing from current font.\n",
      "  fig.canvas.print_figure(bytes_io, **kw)\n",
      "/Users/ohheungchan/anaconda3/envs/tf29_py39/lib/python3.9/site-packages/IPython/core/pylabtools.py:152: UserWarning: Glyph 49328 (\\N{HANGUL SYLLABLE SAN}) missing from current font.\n",
      "  fig.canvas.print_figure(bytes_io, **kw)\n",
      "/Users/ohheungchan/anaconda3/envs/tf29_py39/lib/python3.9/site-packages/IPython/core/pylabtools.py:152: UserWarning: Glyph 51032 (\\N{HANGUL SYLLABLE YI}) missing from current font.\n",
      "  fig.canvas.print_figure(bytes_io, **kw)\n",
      "/Users/ohheungchan/anaconda3/envs/tf29_py39/lib/python3.9/site-packages/IPython/core/pylabtools.py:152: UserWarning: Glyph 51068 (\\N{HANGUL SYLLABLE IL}) missing from current font.\n",
      "  fig.canvas.print_figure(bytes_io, **kw)\n",
      "/Users/ohheungchan/anaconda3/envs/tf29_py39/lib/python3.9/site-packages/IPython/core/pylabtools.py:152: UserWarning: Glyph 52824 (\\N{HANGUL SYLLABLE CI}) missing from current font.\n",
      "  fig.canvas.print_figure(bytes_io, **kw)\n",
      "/Users/ohheungchan/anaconda3/envs/tf29_py39/lib/python3.9/site-packages/IPython/core/pylabtools.py:152: UserWarning: Glyph 48320 (\\N{HANGUL SYLLABLE BYEON}) missing from current font.\n",
      "  fig.canvas.print_figure(bytes_io, **kw)\n",
      "/Users/ohheungchan/anaconda3/envs/tf29_py39/lib/python3.9/site-packages/IPython/core/pylabtools.py:152: UserWarning: Glyph 46041 (\\N{HANGUL SYLLABLE DONG}) missing from current font.\n",
      "  fig.canvas.print_figure(bytes_io, **kw)\n"
     ]
    },
    {
     "data": {
      "image/png": "[encoded data removed]",
      "text/plain": [
       "<Figure size 1200x600 with 1 Axes>"
      ]
     },
     "metadata": {},
     "output_type": "display_data"
    }
   ],
   "source": [
    "import requests\n",
    "from datetime import datetime\n",
    "import matplotlib.pyplot as plt\n",
    "\n",
    "def get_stock_data_with_180_days(stock_name):\n",
    "    # 발급받은 인코딩된 서비스키를 사용하세요.\n",
    "    service_key = 'Q0KvEVbeB1hi3GV3FuOvbdn%2FWJGeUcU6TTTo3x3sQSvfSH5JzLuvrzDT3hUYfN6%2F3jdXnJw1VQfFSZvEBnVuFQ%3D%3D'\n",
    "\n",
    "    # 180일치 데이터를 요청할 URL 구성\n",
    "    url = f\"https://apis.data.go.kr/1160100/service/GetStockSecuritiesInfoService/getStockPriceInfo?serviceKey={service_key}&numOfRows=180&pageNo=1&resultType=json&itmsNm={stock_name}\"\n",
    "\n",
    "    # API 요청을 보냅니다.\n",
    "    response = requests.get(url)\n",
    "\n",
    "    # 응답 상태 코드가 200일 경우 데이터 처리\n",
    "    if response.status_code == 200:\n",
    "        data = response.json()\n",
    "        items = data.get('response', {}).get('body', {}).get('items', {}).get('item', [])\n",
    "        \n",
    "        if not items:\n",
    "            return \"해당 종목명을 찾을 수 없습니다.\"\n",
    "\n",
    "        # 종목 기본 정보 (첫 번째 항목)\n",
    "        stock_data = items[0]\n",
    "        result = {\n",
    "            \"종목명\": stock_data.get('itmsNm', 'N/A'),\n",
    "            \"종가\": stock_data.get('clpr', 'N/A'),\n",
    "            \"전일 대비\": stock_data.get('vs', 'N/A'),\n",
    "            \"등락률\": stock_data.get('fltRt', 'N/A'),\n",
    "            \"시가\": stock_data.get('mkp', 'N/A'),\n",
    "            \"고가\": stock_data.get('hipr', 'N/A'),\n",
    "            \"저가\": stock_data.get('lopr', 'N/A'),\n",
    "            \"거래량\": stock_data.get('trqu', 'N/A'),\n",
    "            \"거래대금\": stock_data.get('trPrc', 'N/A'),\n",
    "            \"시가총액\": stock_data.get('mrktTotAmt', 'N/A')\n",
    "        }\n",
    "        \n",
    "        # 180일치 종가 리스트\n",
    "        closing_prices = []\n",
    "        for item in items:\n",
    "            closing_price = float(item.get('clpr', 0))  # 종가\n",
    "            closing_prices.append(closing_price)\n",
    "        \n",
    "        # 날짜 순서대로 정렬\n",
    "        closing_prices = closing_prices[::-1]  # 최신순에서 날짜순으로 정렬\n",
    "\n",
    "        # 180일치 종가 리스트 추가\n",
    "        result[\"180일 종가 리스트\"] = closing_prices\n",
    "        \n",
    "        return result\n",
    "    else:\n",
    "        return f\"API 호출 실패: {response.status_code}\"\n",
    "\n",
    "def plot_stock_prices(closing_prices, stock_name):\n",
    "    # 날짜는 1일부터 180일 까지의 범위로 설정\n",
    "    days = range(1, len(closing_prices) + 1)\n",
    "    \n",
    "    plt.figure(figsize=(12, 6))\n",
    "    plt.plot(days, closing_prices, marker='o', linestyle='-', color='b')\n",
    "    plt.title(f\"{stock_name}의 180일치 종가 변동\")\n",
    "    plt.xlabel(\"일\")\n",
    "    plt.ylabel(\"종가 (원)\")\n",
    "    plt.tight_layout()\n",
    "    plt.show()\n",
    "\n",
    "# 종목명을 입력받아 함수 호출\n",
    "stock_name = input(\"조회할 종목명을 입력하세요: \")\n",
    "stock_info = get_stock_data_with_180_days(stock_name)\n",
    "\n",
    "# 결과 출력 및 그래프 그리기\n",
    "if isinstance(stock_info, dict):\n",
    "    for key, value in stock_info.items():\n",
    "        print(f\"{key}: {value}\")\n",
    "    plot_stock_prices(stock_info[\"180일 종가 리스트\"], stock_name)\n",
    "else:\n",
    "    print(stock_info)"
   ]
  },
  {
   "cell_type": "markdown",
   "id": "86efb73d-a605-4c4a-af85-5e56d341b33f",
   "metadata": {},
   "source": [
    "# 360일 종가 리스트 출력 함수"
   ]
  },
  {
   "cell_type": "code",
   "execution_count": 16,
   "id": "e0318daa-b9ae-424d-91ea-588d330c33e2",
   "metadata": {},
   "outputs": [
    {
     "name": "stdin",
     "output_type": "stream",
     "text": [
      "조회할 종목명을 입력하세요:  삼성전자\n"
     ]
    },
    {
     "name": "stdout",
     "output_type": "stream",
     "text": [
      "삼성전자의 360일치 종가 리스트: [68500.0, 68400.0, 68500.0, 68800.0, 70300.0, 72300.0, 71400.0, 70900.0, 72200.0, 71700.0, 71000.0, 70900.0, 72000.0, 71000.0, 72000.0, 71900.0, 71500.0, 71800.0, 71200.0, 71400.0, 70500.0, 71300.0, 71600.0, 72400.0, 72600.0, 72700.0, 72400.0, 72200.0, 73000.0, 73000.0, 72000.0, 71600.0, 69900.0, 69500.0, 71500.0, 71900.0, 71900.0, 73400.0, 73300.0, 72000.0, 71700.0, 71000.0, 70300.0, 70400.0, 70000.0, 69800.0, 71700.0, 70600.0, 69800.0, 71100.0, 69900.0, 68800.0, 68300.0, 68500.0, 67600.0, 68900.0, 68000.0, 67500.0, 67300.0, 67000.0, 66700.0, 66300.0, 66600.0, 66600.0, 67100.0, 68200.0, 67100.0, 66800.0, 66800.0, 67100.0, 66900.0, 71000.0, 71200.0, 70700.0, 70000.0, 70400.0, 70300.0, 70800.0, 70500.0, 70900.0, 71700.0, 72000.0, 70200.0, 69800.0, 69600.0, 68900.0, 68800.0, 69400.0, 68600.0, 68400.0, 67500.0, 66700.0, 66000.0, 66400.0, 68200.0, 68900.0, 68000.0, 67300.0, 69400.0, 70500.0, 69500.0, 68800.0, 68400.0, 68500.0, 68000.0, 66700.0, 67300.0, 67300.0, 66900.0, 68600.0, 69700.0, 69600.0, 70900.0, 70900.0, 69900.0, 70300.0, 70500.0, 70400.0, 70800.0, 72200.0, 72800.0, 72500.0, 72700.0, 72800.0, 72800.0, 72400.0, 71700.0, 71300.0, 72700.0, 72700.0, 72800.0, 72000.0, 72600.0, 71200.0, 71700.0, 71500.0, 72600.0, 73000.0, 73500.0, 72800.0, 73100.0, 73300.0, 72900.0, 73400.0, 74800.0, 75000.0, 75900.0, 76600.0, 78000.0, 78500.0, 79600.0, 77000.0, 76600.0, 76600.0, 76500.0, 74700.0, 73600.0, 73200.0, 73100.0, 73900.0, 72600.0, 71000.0, 71700.0, 74700.0, 75100.0, 75200.0, 74000.0, 74100.0, 73400.0, 74400.0, 74300.0, 72700.0, 73600.0, 75200.0, 74300.0, 74400.0, 75000.0, 74100.0, 75200.0, 74000.0, 73000.0, 72800.0, 73800.0, 73300.0, 73000.0, 73100.0, 72900.0, 72800.0, 72900.0, 73200.0, 73400.0, 74900.0, 73700.0, 72900.0, 72200.0, 73300.0, 72400.0, 73300.0, 74100.0, 74300.0, 72300.0, 72800.0, 72800.0, 76900.0, 79300.0, 78900.0, 78200.0, 79900.0, 79800.0, 80800.0, 82400.0, 82000.0, 85000.0, 84100.0, 85300.0, 84500.0, 84500.0, 83600.0, 84100.0, 83700.0, 82200.0, 80000.0, 78900.0, 79600.0, 77600.0, 76100.0, 75500.0, 78600.0, 76300.0, 76700.0, 76700.0, 77500.0, 78000.0, 77600.0, 81300.0, 81300.0, 79700.0, 79200.0, 78400.0, 78300.0, 78200.0, 77400.0, 78900.0, 78400.0, 77700.0, 78300.0, 75900.0, 77200.0, 77600.0, 75200.0, 73500.0, 73500.0, 75700.0, 75300.0, 77400.0, 77300.0, 75700.0, 75200.0, 76500.0, 78600.0, 79600.0, 78100.0, 79800.0, 81200.0, 81600.0, 80000.0, 80600.0, 80800.0, 81300.0, 81600.0, 81500.0, 81800.0, 81800.0, 81800.0, 84600.0, 87100.0, 87400.0, 87800.0, 87800.0, 87600.0, 84400.0, 86700.0, 87700.0, 86700.0, 86900.0, 84400.0, 83000.0, 83900.0, 82000.0, 80400.0, 80900.0, 81200.0, 81000.0, 83900.0, 83100.0, 79600.0, 71400.0, 72500.0, 74700.0, 73400.0, 74700.0, 75500.0, 76100.0, 77200.0, 80200.0, 78300.0, 78900.0, 78300.0, 78300.0, 77700.0, 76100.0, 75800.0, 76400.0, 74000.0, 74300.0, 74400.0, 72500.0, 70000.0, 69000.0, 68900.0, 67500.0, 66200.0, 64900.0, 66300.0, 64400.0, 63100.0, 63000.0, 62600.0, 63200.0, 62200.0, 64700.0, 64200.0, 61500.0, 61300.0, 60600.0, 61000.0, 60300.0, 58900.0, 59300.0, 60800.0, 61000.0, 59500.0, 59700.0, 59200.0, 59000.0, 57700.0, 59100.0, 56600.0, 55900.0, 58100.0, 59600.0, 59100.0, 59200.0, 58300.0, 58700.0, 57600.0, 57300.0, 57500.0, 57000.0, 55000.0]\n"
     ]
    }
   ],
   "source": [
    "import requests\n",
    "from datetime import datetime\n",
    "\n",
    "def get_stock_prices_360_days(stock_name):\n",
    "    # 발급받은 인코딩된 서비스키를 사용하세요.\n",
    "    service_key = 'Q0KvEVbeB1hi3GV3FuOvbdn%2FWJGeUcU6TTTo3x3sQSvfSH5JzLuvrzDT3hUYfN6%2F3jdXnJw1VQfFSZvEBnVuFQ%3D%3D'\n",
    "\n",
    "    # 360일치 데이터를 요청할 URL 구성\n",
    "    url = f\"https://apis.data.go.kr/1160100/service/GetStockSecuritiesInfoService/getStockPriceInfo?serviceKey={service_key}&numOfRows=360&pageNo=1&resultType=json&itmsNm={stock_name}\"\n",
    "\n",
    "    # API 요청을 보냅니다.\n",
    "    response = requests.get(url)\n",
    "\n",
    "    # 응답 상태 코드가 200일 경우 데이터 처리\n",
    "    if response.status_code == 200:\n",
    "        data = response.json()\n",
    "        items = data.get('response', {}).get('body', {}).get('items', {}).get('item', [])\n",
    "        \n",
    "        # 종가 데이터를 저장할 리스트 초기화\n",
    "        closing_prices = []\n",
    "        \n",
    "        # 각 종가 데이터를 리스트에 저장\n",
    "        for item in items:\n",
    "            closing_price = float(item.get('clpr', 0))  # 종가\n",
    "            closing_prices.append(closing_price)\n",
    "        \n",
    "        # 최신순으로 가져왔으므로 날짜 순서로 정렬\n",
    "        closing_prices = closing_prices[::-1]  # 리스트 역순으로 정렬\n",
    "        \n",
    "        return closing_prices\n",
    "    else:\n",
    "        print(f\"API 호출 실패: {response.status_code}\")\n",
    "        return None\n",
    "\n",
    "# 종목명을 입력받아 함수 호출\n",
    "stock_name = input(\"조회할 종목명을 입력하세요: \")\n",
    "stock_prices_360_days = get_stock_prices_360_days(stock_name)\n",
    "\n",
    "# 결과 출력\n",
    "if stock_prices_360_days:\n",
    "    print(f\"{stock_name}의 360일치 종가 리스트:\", stock_prices_360_days)"
   ]
  },
  {
   "cell_type": "code",
   "execution_count": 13,
   "id": "cbc1e982-7140-4075-919d-74c6bc0a1d70",
   "metadata": {},
   "outputs": [
    {
     "name": "stdout",
     "output_type": "stream",
     "text": [
      "Epoch 1/10\n"
     ]
    },
    {
     "name": "stderr",
     "output_type": "stream",
     "text": [
      "2024-11-12 17:51:45.168608: I tensorflow/core/grappler/optimizers/custom_graph_optimizer_registry.cc:113] Plugin optimizer for device_type GPU is enabled.\n",
      "2024-11-12 17:51:45.518596: I tensorflow/core/grappler/optimizers/custom_graph_optimizer_registry.cc:113] Plugin optimizer for device_type GPU is enabled.\n",
      "2024-11-12 17:51:45.807450: I tensorflow/core/grappler/optimizers/custom_graph_optimizer_registry.cc:113] Plugin optimizer for device_type GPU is enabled.\n",
      "2024-11-12 17:51:46.100170: I tensorflow/core/grappler/optimizers/custom_graph_optimizer_registry.cc:113] Plugin optimizer for device_type GPU is enabled.\n",
      "2024-11-12 17:51:46.414004: I tensorflow/core/grappler/optimizers/custom_graph_optimizer_registry.cc:113] Plugin optimizer for device_type GPU is enabled.\n",
      "2024-11-12 17:51:46.774526: I tensorflow/core/grappler/optimizers/custom_graph_optimizer_registry.cc:113] Plugin optimizer for device_type GPU is enabled.\n",
      "2024-11-12 17:51:48.067616: I tensorflow/core/grappler/optimizers/custom_graph_optimizer_registry.cc:113] Plugin optimizer for device_type GPU is enabled.\n",
      "2024-11-12 17:51:49.351388: I tensorflow/core/grappler/optimizers/custom_graph_optimizer_registry.cc:113] Plugin optimizer for device_type GPU is enabled.\n",
      "2024-11-12 17:51:50.640665: I tensorflow/core/grappler/optimizers/custom_graph_optimizer_registry.cc:113] Plugin optimizer for device_type GPU is enabled.\n"
     ]
    },
    {
     "name": "stdout",
     "output_type": "stream",
     "text": [
      "300/300 [==============================] - 29s 69ms/step - loss: 0.0200\n",
      "Epoch 2/10\n",
      "300/300 [==============================] - 21s 69ms/step - loss: 0.0077\n",
      "Epoch 3/10\n",
      "300/300 [==============================] - 20s 67ms/step - loss: 0.0068\n",
      "Epoch 4/10\n",
      "300/300 [==============================] - 21s 70ms/step - loss: 0.0070\n",
      "Epoch 5/10\n",
      "300/300 [==============================] - 21s 71ms/step - loss: 0.0050\n",
      "Epoch 6/10\n",
      "300/300 [==============================] - 22s 72ms/step - loss: 0.0041\n",
      "Epoch 7/10\n",
      "300/300 [==============================] - 21s 72ms/step - loss: 0.0035\n",
      "Epoch 8/10\n",
      "300/300 [==============================] - 21s 69ms/step - loss: 0.0036\n",
      "Epoch 9/10\n",
      "300/300 [==============================] - 20s 67ms/step - loss: 0.0028\n",
      "Epoch 10/10\n",
      "300/300 [==============================] - 20s 68ms/step - loss: 0.0026\n"
     ]
    },
    {
     "name": "stderr",
     "output_type": "stream",
     "text": [
      "2024-11-12 17:55:20.328905: I tensorflow/core/grappler/optimizers/custom_graph_optimizer_registry.cc:113] Plugin optimizer for device_type GPU is enabled.\n",
      "2024-11-12 17:55:20.480006: I tensorflow/core/grappler/optimizers/custom_graph_optimizer_registry.cc:113] Plugin optimizer for device_type GPU is enabled.\n",
      "2024-11-12 17:55:20.771058: I tensorflow/core/grappler/optimizers/custom_graph_optimizer_registry.cc:113] Plugin optimizer for device_type GPU is enabled.\n",
      "2024-11-12 17:55:21.072357: I tensorflow/core/grappler/optimizers/custom_graph_optimizer_registry.cc:113] Plugin optimizer for device_type GPU is enabled.\n",
      "2024-11-12 17:55:21.367754: I tensorflow/core/grappler/optimizers/custom_graph_optimizer_registry.cc:113] Plugin optimizer for device_type GPU is enabled.\n"
     ]
    },
    {
     "name": "stdout",
     "output_type": "stream",
     "text": [
      "1/1 [==============================] - 2s 2s/step\n",
      "예측된 내일 종가: 93903.65625\n"
     ]
    },
    {
     "name": "stderr",
     "output_type": "stream",
     "text": [
      "/Users/ohheungchan/anaconda3/envs/tf29_py39/lib/python3.9/site-packages/IPython/core/pylabtools.py:152: UserWarning: Glyph 51333 (\\N{HANGUL SYLLABLE JONG}) missing from current font.\n",
      "  fig.canvas.print_figure(bytes_io, **kw)\n",
      "/Users/ohheungchan/anaconda3/envs/tf29_py39/lib/python3.9/site-packages/IPython/core/pylabtools.py:152: UserWarning: Glyph 44032 (\\N{HANGUL SYLLABLE GA}) missing from current font.\n",
      "  fig.canvas.print_figure(bytes_io, **kw)\n",
      "/Users/ohheungchan/anaconda3/envs/tf29_py39/lib/python3.9/site-packages/IPython/core/pylabtools.py:152: UserWarning: Glyph 50896 (\\N{HANGUL SYLLABLE WEON}) missing from current font.\n",
      "  fig.canvas.print_figure(bytes_io, **kw)\n",
      "/Users/ohheungchan/anaconda3/envs/tf29_py39/lib/python3.9/site-packages/IPython/core/pylabtools.py:152: UserWarning: Glyph 51068 (\\N{HANGUL SYLLABLE IL}) missing from current font.\n",
      "  fig.canvas.print_figure(bytes_io, **kw)\n",
      "/Users/ohheungchan/anaconda3/envs/tf29_py39/lib/python3.9/site-packages/IPython/core/pylabtools.py:152: UserWarning: Glyph 52824 (\\N{HANGUL SYLLABLE CI}) missing from current font.\n",
      "  fig.canvas.print_figure(bytes_io, **kw)\n",
      "/Users/ohheungchan/anaconda3/envs/tf29_py39/lib/python3.9/site-packages/IPython/core/pylabtools.py:152: UserWarning: Glyph 50752 (\\N{HANGUL SYLLABLE WA}) missing from current font.\n",
      "  fig.canvas.print_figure(bytes_io, **kw)\n",
      "/Users/ohheungchan/anaconda3/envs/tf29_py39/lib/python3.9/site-packages/IPython/core/pylabtools.py:152: UserWarning: Glyph 45236 (\\N{HANGUL SYLLABLE NAE}) missing from current font.\n",
      "  fig.canvas.print_figure(bytes_io, **kw)\n",
      "/Users/ohheungchan/anaconda3/envs/tf29_py39/lib/python3.9/site-packages/IPython/core/pylabtools.py:152: UserWarning: Glyph 50696 (\\N{HANGUL SYLLABLE YE}) missing from current font.\n",
      "  fig.canvas.print_figure(bytes_io, **kw)\n",
      "/Users/ohheungchan/anaconda3/envs/tf29_py39/lib/python3.9/site-packages/IPython/core/pylabtools.py:152: UserWarning: Glyph 52769 (\\N{HANGUL SYLLABLE CEUG}) missing from current font.\n",
      "  fig.canvas.print_figure(bytes_io, **kw)\n",
      "/Users/ohheungchan/anaconda3/envs/tf29_py39/lib/python3.9/site-packages/IPython/core/pylabtools.py:152: UserWarning: Glyph 45216 (\\N{HANGUL SYLLABLE NAL}) missing from current font.\n",
      "  fig.canvas.print_figure(bytes_io, **kw)\n",
      "/Users/ohheungchan/anaconda3/envs/tf29_py39/lib/python3.9/site-packages/IPython/core/pylabtools.py:152: UserWarning: Glyph 51676 (\\N{HANGUL SYLLABLE JJA}) missing from current font.\n",
      "  fig.canvas.print_figure(bytes_io, **kw)\n",
      "/Users/ohheungchan/anaconda3/envs/tf29_py39/lib/python3.9/site-packages/IPython/core/pylabtools.py:152: UserWarning: Glyph 49892 (\\N{HANGUL SYLLABLE SIL}) missing from current font.\n",
      "  fig.canvas.print_figure(bytes_io, **kw)\n",
      "/Users/ohheungchan/anaconda3/envs/tf29_py39/lib/python3.9/site-packages/IPython/core/pylabtools.py:152: UserWarning: Glyph 51228 (\\N{HANGUL SYLLABLE JE}) missing from current font.\n",
      "  fig.canvas.print_figure(bytes_io, **kw)\n"
     ]
    },
    {
     "data": {
      "image/png": "[encoded data removed]",
      "text/plain": [
       "<Figure size 640x480 with 1 Axes>"
      ]
     },
     "metadata": {},
     "output_type": "display_data"
    }
   ],
   "source": [
    "import numpy as np\n",
    "from sklearn.preprocessing import MinMaxScaler\n",
    "from tensorflow.keras.models import Sequential\n",
    "from tensorflow.keras.layers import Dense, LSTM\n",
    "import matplotlib.pyplot as plt\n",
    "\n",
    "# 이미 생성된 360일치 종가 리스트가 있다고 가정\n",
    "closing_prices = stock_prices_360_days  # 360일치 종가 리스트를 여기에 넣으세요.\n",
    "\n",
    "# 데이터 전처리\n",
    "scaler = MinMaxScaler(feature_range=(0, 1))\n",
    "scaled_data = scaler.fit_transform(np.array(closing_prices).reshape(-1, 1))\n",
    "\n",
    "# 학습 데이터 생성 (60일 데이터로 다음날을 예측)\n",
    "sequence_length = 60\n",
    "x_train, y_train = [], []\n",
    "\n",
    "for i in range(sequence_length, len(scaled_data)):\n",
    "    x_train.append(scaled_data[i-sequence_length:i, 0])\n",
    "    y_train.append(scaled_data[i, 0])\n",
    "\n",
    "x_train, y_train = np.array(x_train), np.array(y_train)\n",
    "x_train = np.reshape(x_train, (x_train.shape[0], x_train.shape[1], 1))\n",
    "\n",
    "# LSTM 모델 구성\n",
    "model = Sequential([\n",
    "    LSTM(units=50, return_sequences=True, input_shape=(x_train.shape[1], 1)),\n",
    "    LSTM(units=50, return_sequences=True),\n",
    "    LSTM(units=50, return_sequences=True),\n",
    "    LSTM(units=50, return_sequences=False),\n",
    "    Dense(units=30),\n",
    "    Dense(units=1)\n",
    "])\n",
    "\n",
    "model.compile(optimizer='adam', loss='mean_squared_error')\n",
    "model.fit(x_train, y_train, batch_size=1, epochs=10)\n",
    "\n",
    "# 다음날 예측하기 위한 입력 데이터 생성 (마지막 60일 데이터)\n",
    "last_60_days = scaled_data[-sequence_length:]\n",
    "X_test = np.reshape(last_60_days, (1, sequence_length, 1))\n",
    "\n",
    "# 예측 및 스케일 복원\n",
    "predicted_price = model.predict(X_test)\n",
    "predicted_price = scaler.inverse_transform(predicted_price)\n",
    "\n",
    "print(f\"예측된 내일 종가: {predicted_price[0][0]}\")\n",
    "\n",
    "# 그래프로 예측 결과 시각화\n",
    "plt.plot(closing_prices, label=\"실제 종가\")\n",
    "plt.plot(range(len(closing_prices), len(closing_prices) + 1), predicted_price, marker='o', color='r', label=\"예측 종가\")\n",
    "plt.legend()\n",
    "plt.title(\"360일치 종가와 내일 예측 종가\")\n",
    "plt.xlabel(\"날짜\")\n",
    "plt.ylabel(\"종가 (원)\")\n",
    "plt.show()"
   ]
  },
  {
   "cell_type": "markdown",
   "id": "7f7d2a9d-4264-44aa-93a3-ff6a9d10d44d",
   "metadata": {},
   "source": [
    "# 주가예측 함수\n",
    "- 앞서 알아본 180일 종가 리스트를 인자로 넣는다."
   ]
  },
  {
   "cell_type": "code",
   "execution_count": 17,
   "id": "eadd6dbd-659a-4b8d-ae09-d944cf440b75",
   "metadata": {
    "scrolled": true
   },
   "outputs": [
    {
     "name": "stdout",
     "output_type": "stream",
     "text": [
      "Epoch 1/10\n"
     ]
    },
    {
     "name": "stderr",
     "output_type": "stream",
     "text": [
      "2024-11-12 18:10:11.846599: I tensorflow/core/grappler/optimizers/custom_graph_optimizer_registry.cc:113] Plugin optimizer for device_type GPU is enabled.\n",
      "2024-11-12 18:10:12.025952: I tensorflow/core/grappler/optimizers/custom_graph_optimizer_registry.cc:113] Plugin optimizer for device_type GPU is enabled.\n",
      "2024-11-12 18:10:12.322420: I tensorflow/core/grappler/optimizers/custom_graph_optimizer_registry.cc:113] Plugin optimizer for device_type GPU is enabled.\n",
      "2024-11-12 18:10:12.658319: I tensorflow/core/grappler/optimizers/custom_graph_optimizer_registry.cc:113] Plugin optimizer for device_type GPU is enabled.\n",
      "2024-11-12 18:10:13.919803: I tensorflow/core/grappler/optimizers/custom_graph_optimizer_registry.cc:113] Plugin optimizer for device_type GPU is enabled.\n"
     ]
    },
    {
     "name": "stdout",
     "output_type": "stream",
     "text": [
      "300/300 [==============================] - 15s 36ms/step - loss: 0.0145\n",
      "Epoch 2/10\n",
      "300/300 [==============================] - 11s 35ms/step - loss: 0.0056\n",
      "Epoch 3/10\n",
      "300/300 [==============================] - 10s 33ms/step - loss: 0.0054\n",
      "Epoch 4/10\n",
      "300/300 [==============================] - 10s 33ms/step - loss: 0.0040\n",
      "Epoch 5/10\n",
      "300/300 [==============================] - 10s 35ms/step - loss: 0.0032\n",
      "Epoch 6/10\n",
      "300/300 [==============================] - 11s 36ms/step - loss: 0.0036\n",
      "Epoch 7/10\n",
      "300/300 [==============================] - 10s 34ms/step - loss: 0.0032\n",
      "Epoch 8/10\n",
      "300/300 [==============================] - 11s 37ms/step - loss: 0.0029\n",
      "Epoch 9/10\n",
      "300/300 [==============================] - 11s 36ms/step - loss: 0.0026\n",
      "Epoch 10/10\n",
      "300/300 [==============================] - 10s 33ms/step - loss: 0.0027\n"
     ]
    },
    {
     "name": "stderr",
     "output_type": "stream",
     "text": [
      "2024-11-12 18:11:59.784272: I tensorflow/core/grappler/optimizers/custom_graph_optimizer_registry.cc:113] Plugin optimizer for device_type GPU is enabled.\n",
      "2024-11-12 18:11:59.859365: I tensorflow/core/grappler/optimizers/custom_graph_optimizer_registry.cc:113] Plugin optimizer for device_type GPU is enabled.\n",
      "2024-11-12 18:12:00.171808: I tensorflow/core/grappler/optimizers/custom_graph_optimizer_registry.cc:113] Plugin optimizer for device_type GPU is enabled.\n"
     ]
    },
    {
     "name": "stdout",
     "output_type": "stream",
     "text": [
      "1/1 [==============================] - 1s 966ms/step\n",
      "예측된 내일 종가: 55900.9453125\n"
     ]
    }
   ],
   "source": [
    "import numpy as np\n",
    "from sklearn.preprocessing import MinMaxScaler\n",
    "from tensorflow.keras.models import Sequential\n",
    "from tensorflow.keras.layers import Dense, LSTM\n",
    "\n",
    "def predict_next_day_price(closing_prices):\n",
    "    # 데이터 전처리\n",
    "    scaler = MinMaxScaler(feature_range=(0, 1))\n",
    "    scaled_data = scaler.fit_transform(np.array(closing_prices).reshape(-1, 1))\n",
    "\n",
    "    # 학습 데이터 생성 (60일 데이터로 다음날을 예측)\n",
    "    sequence_length = 60\n",
    "    x_train, y_train = [], []\n",
    "\n",
    "    for i in range(sequence_length, len(scaled_data)):\n",
    "        x_train.append(scaled_data[i-sequence_length:i, 0])\n",
    "        y_train.append(scaled_data[i, 0])\n",
    "\n",
    "    x_train, y_train = np.array(x_train), np.array(y_train)\n",
    "    x_train = np.reshape(x_train, (x_train.shape[0], x_train.shape[1], 1))\n",
    "\n",
    "    # LSTM 모델 구성\n",
    "    model = Sequential([\n",
    "        LSTM(units=50, return_sequences=True, input_shape=(x_train.shape[1], 1)),\n",
    "        LSTM(units=50, return_sequences=False),\n",
    "        Dense(units=25),\n",
    "        Dense(units=1)\n",
    "    ])\n",
    "\n",
    "    model.compile(optimizer='adam', loss='mean_squared_error')\n",
    "    model.fit(x_train, y_train, batch_size=1, epochs=10, verbose=1)\n",
    "\n",
    "    # 다음날 예측하기 위한 입력 데이터 생성 (마지막 60일 데이터)\n",
    "    last_60_days = scaled_data[-sequence_length:]\n",
    "    X_test = np.reshape(last_60_days, (1, sequence_length, 1))\n",
    "\n",
    "    # 예측 및 스케일 복원\n",
    "    predicted_price = model.predict(X_test)\n",
    "    predicted_price = scaler.inverse_transform(predicted_price)\n",
    "\n",
    "    return predicted_price[0][0]\n"
   ]
  },
  {
   "cell_type": "code",
   "execution_count": 19,
   "id": "0256fa7d-001c-479d-8c56-4a2723976bab",
   "metadata": {},
   "outputs": [
    {
     "name": "stdout",
     "output_type": "stream",
     "text": [
      "Epoch 1/10\n"
     ]
    },
    {
     "name": "stderr",
     "output_type": "stream",
     "text": [
      "2024-11-12 18:30:23.918587: I tensorflow/core/grappler/optimizers/custom_graph_optimizer_registry.cc:113] Plugin optimizer for device_type GPU is enabled.\n",
      "2024-11-12 18:30:24.116032: I tensorflow/core/grappler/optimizers/custom_graph_optimizer_registry.cc:113] Plugin optimizer for device_type GPU is enabled.\n",
      "2024-11-12 18:30:24.425272: I tensorflow/core/grappler/optimizers/custom_graph_optimizer_registry.cc:113] Plugin optimizer for device_type GPU is enabled.\n",
      "2024-11-12 18:30:24.806199: I tensorflow/core/grappler/optimizers/custom_graph_optimizer_registry.cc:113] Plugin optimizer for device_type GPU is enabled.\n",
      "2024-11-12 18:30:26.137176: I tensorflow/core/grappler/optimizers/custom_graph_optimizer_registry.cc:113] Plugin optimizer for device_type GPU is enabled.\n"
     ]
    },
    {
     "name": "stdout",
     "output_type": "stream",
     "text": [
      "300/300 [==============================] - 15s 33ms/step - loss: 0.0134\n",
      "Epoch 2/10\n",
      "300/300 [==============================] - 10s 33ms/step - loss: 0.0058\n",
      "Epoch 3/10\n",
      "300/300 [==============================] - 10s 32ms/step - loss: 0.0053\n",
      "Epoch 4/10\n",
      "300/300 [==============================] - 10s 32ms/step - loss: 0.0040\n",
      "Epoch 5/10\n",
      "300/300 [==============================] - 10s 33ms/step - loss: 0.0039\n",
      "Epoch 6/10\n",
      "300/300 [==============================] - 10s 33ms/step - loss: 0.0029\n",
      "Epoch 7/10\n",
      "300/300 [==============================] - 10s 33ms/step - loss: 0.0034\n",
      "Epoch 8/10\n",
      "300/300 [==============================] - 10s 33ms/step - loss: 0.0027\n",
      "Epoch 9/10\n",
      "300/300 [==============================] - 10s 33ms/step - loss: 0.0023\n",
      "Epoch 10/10\n",
      "300/300 [==============================] - 10s 32ms/step - loss: 0.0025\n"
     ]
    },
    {
     "name": "stderr",
     "output_type": "stream",
     "text": [
      "2024-11-12 18:32:05.764847: I tensorflow/core/grappler/optimizers/custom_graph_optimizer_registry.cc:113] Plugin optimizer for device_type GPU is enabled.\n",
      "2024-11-12 18:32:05.836285: I tensorflow/core/grappler/optimizers/custom_graph_optimizer_registry.cc:113] Plugin optimizer for device_type GPU is enabled.\n",
      "2024-11-12 18:32:06.119813: I tensorflow/core/grappler/optimizers/custom_graph_optimizer_registry.cc:113] Plugin optimizer for device_type GPU is enabled.\n"
     ]
    },
    {
     "name": "stdout",
     "output_type": "stream",
     "text": [
      "1/1 [==============================] - 1s 925ms/step\n",
      "예측된 내일 종가: 55781.51953125\n"
     ]
    }
   ],
   "source": [
    "# 예측 실행\n",
    "predicted_price = predict_next_day_price(stock_prices_360_days)\n",
    "print(f\"예측된 내일 종가: {predicted_price}\")"
   ]
  },
  {
   "cell_type": "code",
   "execution_count": 3,
   "id": "54b61ff0-4e5f-4a6e-a091-129de530e503",
   "metadata": {},
   "outputs": [
    {
     "name": "stdout",
     "output_type": "stream",
     "text": [
      "해당 산업군의 평균 PER: PER 데이터를 찾을 수 없습니다.\n"
     ]
    },
    {
     "name": "stderr",
     "output_type": "stream",
     "text": [
      "/var/folders/9x/8whwzmnj6z5bjc7_h1txd9_r0000gn/T/ipykernel_68334/2988131853.py:17: DeprecationWarning: The 'text' argument to find()-type methods is deprecated. Use 'string' instead.\n",
      "  per_element = soup.find(\"td\", class_=\"number\", text=\"PER\")\n"
     ]
    }
   ],
   "source": [
    "import requests\n",
    "from bs4 import BeautifulSoup\n",
    "\n",
    "def get_sector_per(sector_code):\n",
    "    # 네이버 금융 산업군 페이지 URL\n",
    "    url = f\"https://finance.naver.com/sise/sise_group_detail.naver?type=upjong&no={sector_code}\"\n",
    "\n",
    "    # 요청 보내기\n",
    "    headers = {\"User-Agent\": \"Mozilla/5.0\"}\n",
    "    response = requests.get(url, headers=headers)\n",
    "\n",
    "    # 응답 상태 코드 확인\n",
    "    if response.status_code == 200:\n",
    "        soup = BeautifulSoup(response.content, \"html.parser\")\n",
    "        \n",
    "        # 산업군 평균 PER 찾기\n",
    "        per_element = soup.find(\"td\", class_=\"number\", text=\"PER\")\n",
    "        if per_element:\n",
    "            per_value = per_element.find_next_sibling(\"td\").get_text(strip=True)\n",
    "            return per_value\n",
    "        else:\n",
    "            return \"PER 데이터를 찾을 수 없습니다.\"\n",
    "    else:\n",
    "        return f\"요청 실패: {response.status_code}\"\n",
    "\n",
    "# 예시로 '반도체' 산업군 코드 입력 (업종 번호에 따라 다름)\n",
    "sector_code = 1000  # 업종 번호는 산업군에 따라 다름, 네이버 금융에서 확인 필요\n",
    "sector_per = get_sector_per(sector_code)\n",
    "print(f\"해당 산업군의 평균 PER: {sector_per}\")"
   ]
  },
  {
   "cell_type": "code",
   "execution_count": 2,
   "id": "f10b23ca-c1f1-41cf-b7f2-1d65f5f4501d",
   "metadata": {},
   "outputs": [
    {
     "name": "stdout",
     "output_type": "stream",
     "text": [
      "Collecting webdriver-manager\n",
      "  Downloading webdriver_manager-4.0.2-py2.py3-none-any.whl.metadata (12 kB)\n",
      "Requirement already satisfied: requests in /Users/ohheungchan/anaconda3/envs/tf29_py39/lib/python3.9/site-packages (from webdriver-manager) (2.31.0)\n",
      "Collecting python-dotenv (from webdriver-manager)\n",
      "  Downloading python_dotenv-1.0.1-py3-none-any.whl.metadata (23 kB)\n",
      "Requirement already satisfied: packaging in /Users/ohheungchan/anaconda3/envs/tf29_py39/lib/python3.9/site-packages (from webdriver-manager) (23.1)\n",
      "Requirement already satisfied: charset-normalizer<4,>=2 in /Users/ohheungchan/anaconda3/envs/tf29_py39/lib/python3.9/site-packages (from requests->webdriver-manager) (2.0.4)\n",
      "Requirement already satisfied: idna<4,>=2.5 in /Users/ohheungchan/anaconda3/envs/tf29_py39/lib/python3.9/site-packages (from requests->webdriver-manager) (3.4)\n",
      "Requirement already satisfied: urllib3<3,>=1.21.1 in /Users/ohheungchan/anaconda3/envs/tf29_py39/lib/python3.9/site-packages (from requests->webdriver-manager) (2.1.0)\n",
      "Requirement already satisfied: certifi>=2017.4.17 in /Users/ohheungchan/anaconda3/envs/tf29_py39/lib/python3.9/site-packages (from requests->webdriver-manager) (2024.2.2)\n",
      "Downloading webdriver_manager-4.0.2-py2.py3-none-any.whl (27 kB)\n",
      "Downloading python_dotenv-1.0.1-py3-none-any.whl (19 kB)\n",
      "Installing collected packages: python-dotenv, webdriver-manager\n",
      "Successfully installed python-dotenv-1.0.1 webdriver-manager-4.0.2\n",
      "Note: you may need to restart the kernel to use updated packages.\n"
     ]
    }
   ],
   "source": [
    "pip install webdriver-manager"
   ]
  },
  {
   "cell_type": "code",
   "execution_count": 2,
   "id": "14f79e11-0a56-4e2a-9102-31036c8fa639",
   "metadata": {},
   "outputs": [
    {
     "name": "stdout",
     "output_type": "stream",
     "text": [
      "산업군 평균 PER: +4.88%\n"
     ]
    },
    {
     "data": {
      "text/plain": [
       "'+4.88%'"
      ]
     },
     "execution_count": 2,
     "metadata": {},
     "output_type": "execute_result"
    }
   ],
   "source": [
    "from selenium import webdriver\n",
    "from selenium.webdriver.common.by import By\n",
    "from selenium.webdriver.chrome.service import Service\n",
    "from webdriver_manager.chrome import ChromeDriverManager\n",
    "import time\n",
    "\n",
    "def get_sector_per_with_selenium(sector_url):\n",
    "    # Selenium 드라이버 설정\n",
    "    driver = webdriver.Chrome(service=Service(ChromeDriverManager().install()))\n",
    "    driver.get(sector_url)\n",
    "\n",
    "    # 페이지가 로드될 때까지 대기\n",
    "    time.sleep(3)\n",
    "\n",
    "    try:\n",
    "        # 평균 PER을 포함한 테이블 요소 찾기\n",
    "        per_element = driver.find_element(By.XPATH, '//*[@id=\"contentarea_left\"]/table[1]/tbody/tr[4]/td[2]')\n",
    "        per_value = per_element.text\n",
    "        print(f\"산업군 평균 PER: {per_value}\")\n",
    "        return per_value\n",
    "    except Exception as e:\n",
    "        print(\"PER 값을 찾을 수 없습니다.\", e)\n",
    "        return None\n",
    "    finally:\n",
    "        driver.quit()\n",
    "\n",
    "# 예시 URL (반도체 업종 페이지 URL 사용)\n",
    "sector_url = \"https://finance.naver.com/sise/sise_group_detail.naver?type=upjong&no=105\"\n",
    "get_sector_per_with_selenium(sector_url)"
   ]
  },
  {
   "cell_type": "code",
   "execution_count": null,
   "id": "70d53169-937f-4a7d-936b-4478de8cca1b",
   "metadata": {},
   "outputs": [],
   "source": []
  }
 ],
 "metadata": {
  "kernelspec": {
   "display_name": "Python 3 (ipykernel)",
   "language": "python",
   "name": "python3"
  },
  "language_info": {
   "codemirror_mode": {
    "name": "ipython",
    "version": 3
   },
   "file_extension": ".py",
   "mimetype": "text/x-python",
   "name": "python",
   "nbconvert_exporter": "python",
   "pygments_lexer": "ipython3",
   "version": "3.9.18"
  }
 },
 "nbformat": 4,
 "nbformat_minor": 5
}
